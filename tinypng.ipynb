{
 "cells": [
  {
   "cell_type": "code",
   "execution_count": 1,
   "metadata": {},
   "outputs": [],
   "source": [
    "#参考\n",
    "# https://create-it-myself.com/know-how/compress-png-and-jpeg-images-in-python/\n",
    "\n",
    "from PIL import Image\n",
    "from io import BytesIO\n",
    "import os\n",
    "\n",
    "# コンフィグ\n",
    "COMPRESS_QUALITY = 30 # 圧縮のクオリティ\n",
    "\n",
    "# JPEG形式とPNG形式の画像ファイルを用意\n",
    "jpeg_imgefile = '/Users/suzukiharumasa/kcab/apps/tinypng/IMG_1789.JPG'\n",
    "png_imgfile = 'png_image.png'\n",
    "\n",
    "#############################\n",
    "#     JPEG形式の圧縮処理     #\n",
    "#############################\n",
    "# ファイル名を取得\n",
    "file_name = os.path.splitext(os.path.basename(jpeg_imgefile))[0]\n",
    "with open(jpeg_imgefile, 'rb') as inputfile:\n",
    "    # バイナリモードファイルをPILイメージで取得\n",
    "    im = Image.open(inputfile)\n",
    "    # JPEG形式の圧縮を実行\n",
    "    im_io = BytesIO()\n",
    "    im.save(im_io, 'JPEG', quality = COMPRESS_QUALITY)\n",
    "with open('comp_' + file_name + '.jpg', mode='wb') as outputfile:\n",
    "    # 出力ファイル(comp_png_image.png)に書き込み\n",
    "    outputfile.write(im_io.getvalue())\n",
    "\n",
    "#############################\n",
    "#     PNG形式の圧縮処理      #\n",
    "#############################\n",
    "# ファイル名を取得\n",
    "file_name = os.path.splitext(os.path.basename(png_imgfile))[0]\n",
    "with open(png_imgfile, 'rb') as inputfile:\n",
    "    # バイナリモードファイルをPILイメージで取得\n",
    "    im = Image.open(inputfile)\n",
    "    # JPEG形式に変換して、圧縮を実行\n",
    "    im = im.convert('RGB')\n",
    "    im_io = BytesIO()\n",
    "    im.save(im_io, 'JPEG', quality = COMPRESS_QUALITY)\n",
    "with open('comp_' + file_name + '.jpg', mode='wb') as outputfile:\n",
    "    # 出力ファイル(comp_png_image.png)に書き込み\n",
    "    outputfile.write(im_io.getvalue())"
   ]
  },
  {
   "cell_type": "code",
   "execution_count": 6,
   "metadata": {},
   "outputs": [
    {
     "name": "stdout",
     "output_type": "stream",
     "text": [
      "./images/IMG_1786.JPG\n",
      "./images/IMG_1787.JPG\n",
      "./images/IMG_1791.JPG\n",
      "./images/IMG_1790.JPG\n",
      "./images/IMG_1788.JPG\n"
     ]
    }
   ],
   "source": [
    "# 画像のパスを取得\n",
    "import glob\n",
    "\n",
    "images = glob.glob(\"./images/*\")\n",
    "\n",
    "out_put_dir = './output_dir/'\n",
    "\n",
    "if not os.path.exists(out_put_dir):\n",
    "    os.makedirs(out_put_dir)\n",
    "\n",
    "for image in images:\n",
    "    print(image)\n",
    "    file_name = os.path.splitext(os.path.basename(image))[0]\n",
    "    with open(image, 'rb') as inputfile:\n",
    "        # バイナリモードファイルをPILイメージで取得\n",
    "        im = Image.open(inputfile)\n",
    "        # JPEG形式の圧縮を実行\n",
    "        im_io = BytesIO()\n",
    "        im.save(im_io, 'JPEG', quality = COMPRESS_QUALITY)\n",
    "    with open('./output_dir/' + file_name + '.jpg', mode='wb') as outputfile:\n",
    "        # 出力ファイル(comp_png_image.png)に書き込み\n",
    "        outputfile.write(im_io.getvalue())\n",
    "    "
   ]
  },
  {
   "cell_type": "code",
   "execution_count": 3,
   "metadata": {},
   "outputs": [],
   "source": [
    "#英語翻訳\n",
    "\n",
    "from googletrans import Translator\n",
    "from PIL import Image\n",
    "from io import BytesIO\n",
    "import os\n",
    "import glob\n",
    "\n",
    "\n",
    "# コンフィグ\n",
    "COMPRESS_QUALITY = 30 # 圧縮のクオリティ\n",
    "\n",
    "class TranceAncker():\n",
    "\n",
    "    def translate_ja(self, txt):\n",
    "        tr = Translator()\n",
    "        txt = ''.join(filter(str.isalnum, txt))\n",
    "        print(txt)\n",
    "        txt = tr.translate(txt, src=\"ja\", dest=\"en\").text.lower().replace(' ', '_')\n",
    "        return txt"
   ]
  },
  {
   "cell_type": "code",
   "execution_count": 5,
   "metadata": {},
   "outputs": [
    {
     "name": "stdout",
     "output_type": "stream",
     "text": [
      "ベースブレッドは美味しい\n",
      "./images/IMG_1786.JPG\n",
      "./images/IMG_1787.JPG\n",
      "./images/IMG_1791.JPG\n",
      "./images/IMG_1790.JPG\n",
      "./images/IMG_1788.JPG\n"
     ]
    }
   ],
   "source": [
    "# 画像のパスを取得\n",
    "\n",
    "\n",
    "transrator = TranceAncker()\n",
    "\n",
    "file_name_ja = 'ベースブレッドは美味しい'\n",
    "\n",
    "file_name_en = transrator.translate_ja(file_name_ja)\n",
    "\n",
    "\n",
    "images = glob.glob(\"./images/*\")\n",
    "\n",
    "out_put_dir = './output_dir/'\n",
    "\n",
    "if not os.path.exists(out_put_dir):\n",
    "    os.makedirs(out_put_dir)\n",
    "\n",
    "for i, image in enumerate(images):\n",
    "    print(image)\n",
    "    file_name = os.path.splitext(os.path.basename(image))[0]\n",
    "    with open(image, 'rb') as inputfile:\n",
    "        # バイナリモードファイルをPILイメージで取得\n",
    "        im = Image.open(inputfile)\n",
    "        # JPEG形式の圧縮を実行\n",
    "        im_io = BytesIO()\n",
    "        im.save(im_io, 'JPEG', quality = COMPRESS_QUALITY)\n",
    "    with open('./output_dir/' + file_name_en + str(i) + '.jpg', mode='wb') as outputfile:\n",
    "        # 出力ファイル(comp_png_image.png)に書き込み\n",
    "        outputfile.write(im_io.getvalue())"
   ]
  },
  {
   "cell_type": "code",
   "execution_count": 15,
   "metadata": {},
   "outputs": [],
   "source": [
    "class Tinypng():\n",
    "    \n",
    "    def __init__(self):\n",
    "        self.translator = TranceAncker()\n",
    "        \n",
    "    def return_pc(self, COMPRESS_QUALITY: 30, file_name_ja):\n",
    "        self.COMPRESS_QUALITY = COMPRESS_QUALITY # 圧縮のクオリティ\n",
    "        self.file_name_ja = file_name_ja\n",
    "\n",
    "        file_name_en = self.translator.translate_ja(self.file_name_ja)\n",
    "\n",
    "        images = glob.glob(\"./imgs/*\")\n",
    "\n",
    "        out_put_dir = './output_dir/'\n",
    "\n",
    "        if not os.path.exists(out_put_dir):\n",
    "            os.makedirs(out_put_dir)\n",
    "\n",
    "        for i, image in enumerate(images):\n",
    "            print(image)\n",
    "            file_name = os.path.splitext(os.path.basename(image))[0]\n",
    "            with open(image, 'rb') as inputfile:\n",
    "                # バイナリモードファイルをPILイメージで取得\n",
    "                im = Image.open(inputfile)\n",
    "                # JPEG形式の圧縮を実行\n",
    "                im_io = BytesIO()\n",
    "                im.save(im_io, 'JPEG', quality = self.COMPRESS_QUALITY)\n",
    "            with open('./output_dir/' + file_name_en + str(i) + '.jpg', mode='wb') as outputfile:\n",
    "                # 出力ファイル(comp_png_image.png)に書き込み\n",
    "                outputfile.write(im_io.getvalue())"
   ]
  },
  {
   "cell_type": "code",
   "execution_count": 17,
   "metadata": {},
   "outputs": [
    {
     "name": "stdout",
     "output_type": "stream",
     "text": [
      "ベースブレッド\n",
      "./imgs/IMG_1493.JPG\n",
      "./imgs/IMG_1492.JPG\n",
      "./imgs/IMG_1494.JPG\n",
      "./imgs/IMG_1779.JPG\n",
      "./imgs/IMG_1778.JPG\n",
      "./imgs/IMG_1785.JPG\n",
      "./imgs/IMG_1784.JPG\n",
      "./imgs/IMG_1780.JPG\n",
      "./imgs/IMG_1743.JPG\n",
      "./imgs/IMG_1756.JPG\n",
      "./imgs/IMG_1781.JPG\n",
      "./imgs/IMG_1783.JPG\n",
      "./imgs/IMG_1768.JPG\n",
      "./imgs/IMG_1769.jpg\n",
      "./imgs/IMG_1755.JPG\n",
      "./imgs/IMG_1782.JPG\n",
      "./imgs/IMG_1764.jpg\n",
      "./imgs/IMG_1770.JPG\n",
      "./imgs/IMG_1771.JPG\n",
      "./imgs/IMG_1765.JPG\n",
      "./imgs/IMG_1773.JPG\n",
      "./imgs/IMG_1767.JPG\n",
      "./imgs/IMG_1766.JPG\n",
      "./imgs/IMG_1772.JPG\n",
      "./imgs/IMG_1776.JPG\n",
      "./imgs/IMG_1762.jpg\n",
      "./imgs/IMG_1763.jpg\n",
      "./imgs/IMG_1777.JPG\n",
      "./imgs/IMG_1761.jpg\n",
      "./imgs/IMG_1775.JPG\n",
      "./imgs/IMG_1774.JPG\n"
     ]
    }
   ],
   "source": [
    "tiny = Tinypng()\n",
    "\n",
    "tiny.return_pc(50, 'ベースブレッド')"
   ]
  },
  {
   "cell_type": "code",
   "execution_count": null,
   "metadata": {},
   "outputs": [],
   "source": []
  }
 ],
 "metadata": {
  "kernelspec": {
   "display_name": "Python 3.10.4 ('dj')",
   "language": "python",
   "name": "python3"
  },
  "language_info": {
   "codemirror_mode": {
    "name": "ipython",
    "version": 3
   },
   "file_extension": ".py",
   "mimetype": "text/x-python",
   "name": "python",
   "nbconvert_exporter": "python",
   "pygments_lexer": "ipython3",
   "version": "3.10.4"
  },
  "orig_nbformat": 4,
  "vscode": {
   "interpreter": {
    "hash": "4e836e2f3b3f137aa86a7cd19844f4ec4ff362dadd3e91fc41d4f7b0c6b22ce9"
   }
  }
 },
 "nbformat": 4,
 "nbformat_minor": 2
}
